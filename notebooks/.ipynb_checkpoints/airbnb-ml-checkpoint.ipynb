{
 "cells": [
  {
   "cell_type": "code",
   "execution_count": null,
   "id": "2649c9b2",
   "metadata": {},
   "outputs": [],
   "source": [
    "import pandas as pd\n",
    "import numpy as np\n",
    "import matplotlib.pyplot as plt\n",
    "from sklearn.linear_model import LinearRegression\n",
    "from sklearn.model_selection import train_test_split\n",
    "from sklearn.metrics import r2_score\n",
    "from scipy.stats import pearsonr"
   ]
  },
  {
   "cell_type": "code",
   "execution_count": null,
   "id": "58573c73",
   "metadata": {},
   "outputs": [],
   "source": [
    "df = pd.read_csv(\"../dados/airbnb-feature-eng.csv\")"
   ]
  },
  {
   "cell_type": "code",
   "execution_count": null,
   "id": "cf1611a5",
   "metadata": {},
   "outputs": [],
   "source": [
    "df.info()"
   ]
  },
  {
   "cell_type": "code",
   "execution_count": null,
   "id": "313e8aff",
   "metadata": {},
   "outputs": [],
   "source": [
    "X = df['bedrooms'].values\n",
    "Y = df['price'].values"
   ]
  },
  {
   "cell_type": "code",
   "execution_count": null,
   "id": "bbbe5de6",
   "metadata": {},
   "outputs": [],
   "source": [
    "plt.scatter(X, Y)\n",
    "plt.show()\n",
    "\n",
    "r = pearsonr(X, Y)\n",
    "print(f'Coeficiente de correlação: {r}')"
   ]
  },
  {
   "cell_type": "code",
   "execution_count": null,
   "id": "afddca1b",
   "metadata": {},
   "outputs": [],
   "source": [
    "#Separando dados de treino e de teste\n",
    "#utilizamos 70% dos dados para treino e o restante (30%) para teste.\n",
    "x_train, x_test, y_train, y_test = train_test_split( X, Y, test_size=0.3)\n",
    "\n",
    "#Precisamos redimensionar os dados para fazer a regressão linear\n",
    "x_train=x_train.reshape(-1,1)\n",
    "y_train=y_train.reshape(-1,1)\n",
    "x_test=x_test.reshape(-1,1)\n",
    "y_test=y_test.reshape(-1,1)"
   ]
  },
  {
   "cell_type": "code",
   "execution_count": null,
   "id": "d82d66d5",
   "metadata": {},
   "outputs": [],
   "source": [
    "#treinando o modelo\n",
    "reg = LinearRegression()\n",
    "reg.fit(x_train,y_train)\n",
    "pred = reg.predict(x_test)"
   ]
  },
  {
   "cell_type": "code",
   "execution_count": null,
   "id": "bb4883d1",
   "metadata": {},
   "outputs": [],
   "source": [
    "plt.scatter(X, Y, color=\"blue\")\n",
    "plt.plot(x_test, pred, color=\"red\")\n",
    "plt.title(\"Bedrooms x Price (Dados de Teste)\")\n",
    "plt.xlabel(\"Bedrooms\")\n",
    "plt.ylabel(\"Price\")"
   ]
  },
  {
   "cell_type": "code",
   "execution_count": null,
   "id": "b9b3965a",
   "metadata": {},
   "outputs": [],
   "source": []
  }
 ],
 "metadata": {
  "kernelspec": {
   "display_name": "Python 3 (ipykernel)",
   "language": "python",
   "name": "python3"
  },
  "language_info": {
   "codemirror_mode": {
    "name": "ipython",
    "version": 3
   },
   "file_extension": ".py",
   "mimetype": "text/x-python",
   "name": "python",
   "nbconvert_exporter": "python",
   "pygments_lexer": "ipython3",
   "version": "3.11.4"
  }
 },
 "nbformat": 4,
 "nbformat_minor": 5
}
